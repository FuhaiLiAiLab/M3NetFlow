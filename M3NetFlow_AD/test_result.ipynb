{
 "cells": [
  {
   "cell_type": "markdown",
   "metadata": {},
   "source": [
    "# 1. rosmap ALMANAC"
   ]
  },
  {
   "cell_type": "markdown",
   "metadata": {},
   "source": [
    "## 1.1 rosmap ALMANAC Pearson Correlation"
   ]
  },
  {
   "cell_type": "code",
   "execution_count": 1,
   "metadata": {},
   "outputs": [],
   "source": [
    "gcn_decoder_test_list = [0.6, 0.64, 0.64, 0.52, 0.5714285714285714]\n",
    "gat_decoder_test_list = [0.64, 0.64, 0.64, 0.72, 0.5]\n",
    "unimp_decoder_test_list = [0.68, 0.6, 0.6, 0.64, 0.5714285714285714]\n",
    "mixhop_decoder_test_list = [0.6, 0.6, 0.6, 0.56, 0.5]\n",
    "pna_decoder_test_list = [0.6, 0.56, 0.56, 0.6, 0.5714285714285714]\n",
    "gin_decoder_test_list = [0.48, 0.4, 0.52, 0.52, 0.5714285714285714]\n",
    "m3net_decoder_test_list = [0.68, 0.68, 0.64, 0.76, 0.6071428571428571]\n"
   ]
  },
  {
   "cell_type": "code",
   "execution_count": 2,
   "metadata": {},
   "outputs": [
    {
     "name": "stdout",
     "output_type": "stream",
     "text": [
      "GCN vs M3Net: p-value = 0.049651\n",
      "GAT vs M3Net: p-value = 0.332947\n",
      "UniMP vs M3Net: p-value = 0.124477\n",
      "MixHop vs M3Net: p-value = 0.014849\n",
      "PNA vs M3Net: p-value = 0.017237\n",
      "GIN vs M3Net: p-value = 0.001883\n"
     ]
    }
   ],
   "source": [
    "import scipy.stats as stats\n",
    "decoder_lists = {\n",
    "    \"GCN\": gcn_decoder_test_list,\n",
    "    \"GAT\": gat_decoder_test_list,\n",
    "    \"UniMP\": unimp_decoder_test_list,\n",
    "    \"MixHop\": mixhop_decoder_test_list,\n",
    "    \"PNA\": pna_decoder_test_list,\n",
    "    \"GIN\": gin_decoder_test_list\n",
    "}\n",
    "\n",
    "for name, data in decoder_lists.items():\n",
    "    t_stat, p_value = stats.ttest_ind(m3net_decoder_test_list, data, equal_var=False)\n",
    "    print(f\"{name} vs M3Net: p-value = {p_value:.6f}\")"
   ]
  },
  {
   "cell_type": "code",
   "execution_count": 3,
   "metadata": {},
   "outputs": [],
   "source": [
    "# convert those p-values to a csv table\n",
    "import pandas as pd\n",
    "p_values = []\n",
    "for name, data in decoder_lists.items():\n",
    "    # print(m3net_decoder_test_list, data)\n",
    "    t_stat, p_value = stats.ttest_ind(m3net_decoder_test_list, data, equal_var=False)\n",
    "    p_values.append(p_value)\n",
    "\n",
    "df = pd.DataFrame({\n",
    "    \"Model\": list(decoder_lists.keys()),\n",
    "    \"p-value\": p_values\n",
    "})\n",
    "df.to_csv(\"ROSMAP_decoder_p_values.csv\", index=False)"
   ]
  },
  {
   "cell_type": "code",
   "execution_count": 4,
   "metadata": {},
   "outputs": [
    {
     "data": {
      "text/html": [
       "<div>\n",
       "<style scoped>\n",
       "    .dataframe tbody tr th:only-of-type {\n",
       "        vertical-align: middle;\n",
       "    }\n",
       "\n",
       "    .dataframe tbody tr th {\n",
       "        vertical-align: top;\n",
       "    }\n",
       "\n",
       "    .dataframe thead th {\n",
       "        text-align: right;\n",
       "    }\n",
       "</style>\n",
       "<table border=\"1\" class=\"dataframe\">\n",
       "  <thead>\n",
       "    <tr style=\"text-align: right;\">\n",
       "      <th></th>\n",
       "      <th>avg</th>\n",
       "      <th>std</th>\n",
       "    </tr>\n",
       "  </thead>\n",
       "  <tbody>\n",
       "    <tr>\n",
       "      <th>GCN</th>\n",
       "      <td>59.43%</td>\n",
       "      <td>4.53%</td>\n",
       "    </tr>\n",
       "    <tr>\n",
       "      <th>GAT</th>\n",
       "      <td>62.80%</td>\n",
       "      <td>7.11%</td>\n",
       "    </tr>\n",
       "    <tr>\n",
       "      <th>UniMP</th>\n",
       "      <td>61.83%</td>\n",
       "      <td>3.78%</td>\n",
       "    </tr>\n",
       "    <tr>\n",
       "      <th>MIXHOP</th>\n",
       "      <td>57.20%</td>\n",
       "      <td>3.92%</td>\n",
       "    </tr>\n",
       "    <tr>\n",
       "      <th>PNA</th>\n",
       "      <td>57.83%</td>\n",
       "      <td>1.82%</td>\n",
       "    </tr>\n",
       "    <tr>\n",
       "      <th>GIN</th>\n",
       "      <td>49.83%</td>\n",
       "      <td>5.71%</td>\n",
       "    </tr>\n",
       "    <tr>\n",
       "      <th>M3NETFLOW</th>\n",
       "      <td>67.34%</td>\n",
       "      <td>5.12%</td>\n",
       "    </tr>\n",
       "  </tbody>\n",
       "</table>\n",
       "</div>"
      ],
      "text/plain": [
       "              avg    std\n",
       "GCN        59.43%  4.53%\n",
       "GAT        62.80%  7.11%\n",
       "UniMP      61.83%  3.78%\n",
       "MIXHOP     57.20%  3.92%\n",
       "PNA        57.83%  1.82%\n",
       "GIN        49.83%  5.71%\n",
       "M3NETFLOW  67.34%  5.12%"
      ]
     },
     "metadata": {},
     "output_type": "display_data"
    }
   ],
   "source": [
    "# calculate the average and std of the test results \n",
    "import numpy as np\n",
    "\n",
    "gcn_avg = np.mean(gcn_decoder_test_list)\n",
    "gcn_std = np.std(gcn_decoder_test_list)\n",
    "gat_avg = np.mean(gat_decoder_test_list)\n",
    "gat_std = np.std(gat_decoder_test_list)\n",
    "unimp_avg = np.mean(unimp_decoder_test_list)\n",
    "unimp_std = np.std(unimp_decoder_test_list)\n",
    "mixhop_avg = np.mean(mixhop_decoder_test_list)\n",
    "mixhop_std = np.std(mixhop_decoder_test_list)\n",
    "pna_avg = np.mean(pna_decoder_test_list)\n",
    "pna_std = np.std(pna_decoder_test_list)\n",
    "gin_avg = np.mean(gin_decoder_test_list)\n",
    "gin_std = np.std(gin_decoder_test_list)\n",
    "m3net_avg = np.mean(m3net_decoder_test_list)\n",
    "m3net_std = np.std(m3net_decoder_test_list)\n",
    "\n",
    "\n",
    "# convery the avg and std to percentage and as string and make it as model comparison table (model as the rows and avg and std as the columns)\n",
    "import pandas as pd\n",
    "gcn_avg_str = \"{:.2%}\".format(gcn_avg)\n",
    "gcn_std_str = \"{:.2%}\".format(gcn_std)\n",
    "gat_avg_str = \"{:.2%}\".format(gat_avg)\n",
    "gat_std_str = \"{:.2%}\".format(gat_std)\n",
    "unimp_avg_str = \"{:.2%}\".format(unimp_avg)\n",
    "unimp_std_str = \"{:.2%}\".format(unimp_std)\n",
    "mixhop_avg_str = \"{:.2%}\".format(mixhop_avg)\n",
    "mixhop_std_str = \"{:.2%}\".format(mixhop_std)\n",
    "pna_avg_str = \"{:.2%}\".format(pna_avg)\n",
    "pna_std_str = \"{:.2%}\".format(pna_std)\n",
    "gin_avg_str = \"{:.2%}\".format(gin_avg)\n",
    "gin_std_str = \"{:.2%}\".format(gin_std)\n",
    "m3net_avg_str = \"{:.2%}\".format(m3net_avg)\n",
    "m3net_std_str = \"{:.2%}\".format(m3net_std)\n",
    "\n",
    "\n",
    "rosmap_model_comparison_table = pd.DataFrame({\"avg\":[gcn_avg_str, gat_avg_str, unimp_avg_str, mixhop_avg_str, pna_avg_str, gin_avg_str, m3net_avg_str], \n",
    "                                       \"std\":[gcn_std_str, gat_std_str, unimp_std_str, mixhop_std_str, pna_std_str, gin_std_str, m3net_std_str]}, \n",
    "                                       index=[\"GCN\", \"GAT\", \"UniMP\", \"MIXHOP\", \"PNA\", \"GIN\", \"M3NETFLOW\"])\n",
    "\n",
    "display(rosmap_model_comparison_table)\n"
   ]
  },
  {
   "cell_type": "markdown",
   "metadata": {},
   "source": [
    "# 2. Combine all the dataset results"
   ]
  },
  {
   "cell_type": "code",
   "execution_count": 5,
   "metadata": {},
   "outputs": [
    {
     "data": {
      "text/html": [
       "<div>\n",
       "<style scoped>\n",
       "    .dataframe tbody tr th:only-of-type {\n",
       "        vertical-align: middle;\n",
       "    }\n",
       "\n",
       "    .dataframe tbody tr th {\n",
       "        vertical-align: top;\n",
       "    }\n",
       "\n",
       "    .dataframe thead th {\n",
       "        text-align: right;\n",
       "    }\n",
       "</style>\n",
       "<table border=\"1\" class=\"dataframe\">\n",
       "  <thead>\n",
       "    <tr style=\"text-align: right;\">\n",
       "      <th></th>\n",
       "      <th>ROSMAP</th>\n",
       "    </tr>\n",
       "  </thead>\n",
       "  <tbody>\n",
       "    <tr>\n",
       "      <th>GCN</th>\n",
       "      <td>59.43% ± 4.53%</td>\n",
       "    </tr>\n",
       "    <tr>\n",
       "      <th>GAT</th>\n",
       "      <td>62.80% ± 7.11%</td>\n",
       "    </tr>\n",
       "    <tr>\n",
       "      <th>UniMP</th>\n",
       "      <td>61.83% ± 3.78%</td>\n",
       "    </tr>\n",
       "    <tr>\n",
       "      <th>MIXHOP</th>\n",
       "      <td>57.20% ± 3.92%</td>\n",
       "    </tr>\n",
       "    <tr>\n",
       "      <th>PNA</th>\n",
       "      <td>57.83% ± 1.82%</td>\n",
       "    </tr>\n",
       "    <tr>\n",
       "      <th>GIN</th>\n",
       "      <td>49.83% ± 5.71%</td>\n",
       "    </tr>\n",
       "    <tr>\n",
       "      <th>M3NETFLOW</th>\n",
       "      <td>67.34% ± 5.12%</td>\n",
       "    </tr>\n",
       "  </tbody>\n",
       "</table>\n",
       "</div>"
      ],
      "text/plain": [
       "                   ROSMAP\n",
       "GCN        59.43% ± 4.53%\n",
       "GAT        62.80% ± 7.11%\n",
       "UniMP      61.83% ± 3.78%\n",
       "MIXHOP     57.20% ± 3.92%\n",
       "PNA        57.83% ± 1.82%\n",
       "GIN        49.83% ± 5.71%\n",
       "M3NETFLOW  67.34% ± 5.12%"
      ]
     },
     "metadata": {},
     "output_type": "display_data"
    }
   ],
   "source": [
    "# concat all datasets avg and std test results and loss results one two dataframes (combine avg and std as one column with plus minus sign in string; and model as rows and dataset as columns)\n",
    "rosmap_model_comparison_table[\"ROSMAP\"] = rosmap_model_comparison_table[\"avg\"] + \" ± \" + rosmap_model_comparison_table[\"std\"]\n",
    "rosmap_model_comparison_table.drop(columns=[\"avg\", \"std\"], inplace=True)\n",
    "\n",
    "model_comparison_table = pd.concat([rosmap_model_comparison_table], axis=1)\n",
    "display(model_comparison_table)\n",
    "model_comparison_table.to_csv(\"./model_comparison_table.csv\")"
   ]
  }
 ],
 "metadata": {
  "kernelspec": {
   "display_name": "mkg",
   "language": "python",
   "name": "python3"
  },
  "language_info": {
   "codemirror_mode": {
    "name": "ipython",
    "version": 3
   },
   "file_extension": ".py",
   "mimetype": "text/x-python",
   "name": "python",
   "nbconvert_exporter": "python",
   "pygments_lexer": "ipython3",
   "version": "3.10.14"
  }
 },
 "nbformat": 4,
 "nbformat_minor": 2
}
